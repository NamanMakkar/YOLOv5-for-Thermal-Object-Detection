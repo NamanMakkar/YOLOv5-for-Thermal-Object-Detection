{
  "cells": [
    {
      "cell_type": "code",
      "execution_count": null,
      "metadata": {
        "id": "42ovhWTLG3Zf"
      },
      "outputs": [],
      "source": [
        "import numpy as np\n",
        "import sys\n",
        "import os"
      ]
    },
    {
      "cell_type": "code",
      "execution_count": null,
      "metadata": {
        "id": "d3_2T_QkJPeb"
      },
      "outputs": [],
      "source": [
        "import json\n",
        "\n",
        "def convert(source_path, destination_path, test = False):\n",
        "  \n",
        "  with open(source_path) as json_file:\n",
        "    data = json.load(json_file)\n",
        "    annotations = data['annotations']\n",
        " \n",
        "    print(\"Converting...\\n\")\n",
        "\n",
        "    for image in data['images']:\n",
        "      if test:\n",
        "        file = open(destination_path +'/FLIR_0{:04d}.txt'.format(image['id'] + 8863), 'a')\n",
        "        file.close()\n",
        "      else:\n",
        "        file = open(destination_path +'/FLIR_0{:04d}.txt'.format(image['id'] + 1), 'a')\n",
        "        file.close()\n",
        "\n",
        "    #bike_imgs = list_bike_images(source_path)\n",
        "    list_images = set()\n",
        "\n",
        "    for p in annotations: \n",
        "      for img in data['images']:\n",
        "        if not test: \n",
        "          if (p['image_id'] == img):\n",
        "            list_images.add('FLIR_0{:04d}.jpeg'.format(p['image_id'] + 1))\n",
        "            if (p['category_id'] <= 3):\n",
        "              print(p['category_id'] - 1, end=\" \", file=open(destination_path +'/FLIR_0{:04d}.txt'.format(p['image_id'] + 1), 'a'))\n",
        "              print((p['segmentation'][0][0] + p['segmentation'][0][4])/ 2 / 640, end=\" \", file=open(destination_path + '/FLIR_0{:04d}.txt'.format(p['image_id'] + 1), 'a'))\n",
        "              print((p['segmentation'][0][1] + p['segmentation'][0][3]) / 2 / 512, end=\" \", file=open(destination_path + '/FLIR_0{:04d}.txt'.format(p['image_id'] + 1), 'a'))\n",
        "              print(p['bbox'][2] / 640, end=\" \", file=open(destination_path + '/FLIR_0{:04d}.txt'.format(p['image_id'] + 1), 'a'))\n",
        "              print(p['bbox'][3] / 512, file=open(destination_path + '/FLIR_0{:04d}.txt'.format(p['image_id'] + 1), 'a'))\n",
        "        else:\n",
        "          if (p['image_id'] == img['id']):\n",
        "            if (p['category_id'] <= 3):\n",
        "              print(p['category_id'] - 1, end=\" \", file=open(destination_path +'/FLIR_0{:04d}.txt'.format(p['image_id'] + 8863), 'a'))\n",
        "              print((p['segmentation'][0][0] + p['segmentation'][0][4])/ 2 / 640, end=\" \", file=open(destination_path + '/FLIR_0{:04d}.txt'.format(p['image_id'] + 8863), 'a'))\n",
        "              print((p['segmentation'][0][1] + p['segmentation'][0][3]) / 2 / 512, end=\" \", file=open(destination_path + '/FLIR_0{:04d}.txt'.format(p['image_id'] + 8863), 'a'))\n",
        "              print(p['bbox'][2] / 640, end=\" \", file=open(destination_path + '/FLIR_0{:04d}.txt'.format(p['image_id'] + 8863), 'a'))\n",
        "              print(p['bbox'][3] / 512, file=open(destination_path + '/FLIR_0{:04d}.txt'.format(p['image_id'] + 8863), 'a'))\n",
        "\n",
        "  return list_images"
      ]
    },
    {
      "cell_type": "code",
      "execution_count": null,
      "metadata": {
        "colab": {
          "base_uri": "https://localhost:8080/"
        },
        "id": "W8VpKkhZF_n_",
        "outputId": "80888c69-ac11-4d38-fb03-683a0a235863"
      },
      "outputs": [
        {
          "name": "stdout",
          "output_type": "stream",
          "text": [
            "Converting...\n",
            "\n"
          ]
        }
      ],
      "source": [
        "train_images_list = convert('/content/drive/MyDrive/train/thermal_annotations.json','/content/drive/MyDrive/yolo-flir-train-annotations')"
      ]
    },
    {
      "cell_type": "code",
      "execution_count": null,
      "metadata": {
        "colab": {
          "base_uri": "https://localhost:8080/",
          "height": 35
        },
        "id": "fxMUdGOYDyAz",
        "outputId": "97aadce6-58d8-4cf0-fe21-e0c89434ca50"
      },
      "outputs": [
        {
          "data": {
            "application/vnd.google.colaboratory.intrinsic+json": {
              "type": "string"
            },
            "text/plain": [
              "'FLIR_03820.txt'"
            ]
          },
          "execution_count": 13,
          "metadata": {},
          "output_type": "execute_result"
        }
      ],
      "source": [
        "list(train_images_list)[0].split('.')[0] + '.txt'"
      ]
    },
    {
      "cell_type": "code",
      "execution_count": null,
      "metadata": {
        "id": "ysLfuGkXdnrs"
      },
      "outputs": [],
      "source": [
        "convert('/content/drive/MyDrive/test/thermal_annotations.json','/content/drive/MyDrive/yolo-flir-test-annotations', test=True)"
      ]
    },
    {
      "cell_type": "code",
      "execution_count": null,
      "metadata": {
        "id": "tOv7FkDvdFRX"
      },
      "outputs": [],
      "source": [
        "import os \n",
        "import random\n",
        "import shutil\n",
        "from sklearn.model_selection import train_test_split\n",
        "\n",
        "images_dir = '/content/drive/MyDrive/train/thermal_8_bit' \n",
        "images = [os.path.join(images_dir, x) for x in os.listdir(images_dir)]\n",
        "\n",
        "annotations_dir = '/content/drive/MyDrive/yolo-flir-train-annotations'\n",
        "annotations = [os.path.join(annotations_dir, x) for x in os.listdir(annotations_dir)]\n",
        "\n",
        "images.sort()\n",
        "annotations.sort()\n",
        "\n",
        "train_images, val_images, train_annotations, val_annotations = train_test_split(images, annotations, test_size = 0.3, random_state = 1)\n",
        "\n",
        "def move_files_to_folder(list_of_files, destination_folder):\n",
        "    for f in list_of_files:\n",
        "        try:\n",
        "            shutil.move(f, destination_folder)\n",
        "        except:\n",
        "            print(f)\n",
        "            assert False"
      ]
    },
    {
      "cell_type": "code",
      "execution_count": null,
      "metadata": {
        "id": "s9GBtgrYd578"
      },
      "outputs": [],
      "source": [
        "import os\n",
        "import shutil\n",
        "\n",
        "def copy_files_to_folder(list_of_files, destination_folder):\n",
        "    for f in list_of_files:\n",
        "        try:\n",
        "            shutil.copy(f, destination_folder)\n",
        "        except:\n",
        "            print(f)\n",
        "            assert False"
      ]
    },
    {
      "cell_type": "code",
      "execution_count": null,
      "metadata": {
        "id": "_TLvjFtud9tS"
      },
      "outputs": [],
      "source": [
        "copy_files_to_folder(train_images,'/content/drive/MyDrive/flir-three-labels/images/train')\n",
        "copy_files_to_folder(val_images,'/content/drive/MyDrive/flir-three-labels/images/val')\n",
        "copy_files_to_folder(train_annotations,'/content/drive/MyDrive/flir-three-labels/labels/train')\n",
        "copy_files_to_folder(val_annotations,'/content/drive/MyDrive/flir-three-labels/labels/val')"
      ]
    }
  ],
  "metadata": {
    "colab": {
      "collapsed_sections": [],
      "name": "Untitled27.ipynb",
      "provenance": []
    },
    "kernelspec": {
      "display_name": "Python 3",
      "name": "python3"
    },
    "language_info": {
      "name": "python"
    }
  },
  "nbformat": 4,
  "nbformat_minor": 0
}
